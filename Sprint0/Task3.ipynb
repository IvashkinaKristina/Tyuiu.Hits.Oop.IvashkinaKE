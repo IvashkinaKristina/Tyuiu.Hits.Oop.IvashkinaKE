{
 "cells": [
  {
   "cell_type": "markdown",
   "metadata": {},
   "source": [
    "<h1 style=\"color:DodgerBlue\">Индивидальный проект</h1>"
   ]
  },
  {
   "cell_type": "markdown",
   "metadata": {},
   "source": [
    "<h2 style=\"color:DodgerBlue\">Название проекта:</h2>\n",
    "\n",
    "----\n",
    "\n",
    "Вариант задания № 7\n"
   ]
  },
  {
   "cell_type": "markdown",
   "metadata": {},
   "source": [
    "<h2 style=\"color:DodgerBlue\">Описание проекта:</h2>\n",
    "\n",
    "----\n",
    "\n",
    "Создать базовый класс BankAccount в C#, который будет представлять\n",
    "информацию об учетных записях в банке. На основе этого класса разработать 2-3\n",
    "производных класса, демонстрирующих принципы наследования и полиморфизма.\n",
    "В каждом из классов должны быть реализованы новые атрибуты и методы, а также\n",
    "переопределены некоторые методы базового класса для демонстрации\n",
    "полиморфизма.\n",
    "\n",
    "Требования к базовому классу BankAccount:\n",
    "\n",
    "• Атрибуты: Номер счета (AccountNumber), Баланс (Balance), Тип счета\n",
    "(AccountType).\n",
    "\n",
    "• Методы:\n",
    "\n",
    "o GetInfo(): метод для получения информации о счете в виде строки.\n",
    "\n",
    "o Deposit(decimal amount): метод для внесения денег на счет.\n",
    "\n",
    "o Withdraw(decimal amount): метод для снятия денег со счета.\n",
    "\n",
    "Требования к производным классам:\n",
    "\n",
    "1. Сберегательный счет (SavingsAccount): Должен содержать дополнительные\n",
    "атрибуты, такие как Процентная ставка (InterestRate). Метод Deposit() должен\n",
    "быть переопределен для добавления процентов к сумме вклада при\n",
    "внесении денег на счет.\n",
    "\n",
    "2. Текущий счет (CheckingAccount): Должен содержать дополнительные\n",
    "атрибуты, такие как Лимит овердрафта (OverdraftLimit).\n",
    "Метод Withdraw() должен быть переопределен для проверки и применения\n",
    "лимита овердрафта при снятии денег со счета.\n",
    "\n",
    "3. Инвестиционный счет (InvestmentAccount) (если требуется третий класс):\n",
    "Должен содержать дополнительные атрибуты, такие как Список активов\n",
    "(AssetsList). Метод GetInfo() должен быть переопределен для включения\n",
    "информации о списках активов в описании счета.\n"
   ]
  },
  {
   "cell_type": "markdown",
   "metadata": {},
   "source": [
    "<h2 style=\"color:DodgerBlue\">Реализация:</h2>\n",
    "\n",
    "----"
   ]
  },
  {
   "cell_type": "code",
   "execution_count": 2,
   "metadata": {
    "dotnet_interactive": {
     "language": "csharp"
    },
    "polyglot_notebook": {
     "kernelName": "csharp"
    }
   },
   "outputs": [],
   "source": [
    "public class BankAccount\n",
    "{\n",
    "    private int AccountNumber;\n",
    "    public int accountNumber\n",
    "    {\n",
    "        get {return AccountNumber;}\n",
    "        set {AccountNumber = value;}\n",
    "    }\n",
    "\n",
    "    private decimal Balance;\n",
    "    public decimal balance\n",
    "    {\n",
    "        get {return Balance;}\n",
    "        set {Balance = value;}\n",
    "    }\n",
    "\n",
    "    private string AccountType;\n",
    "    public string accountType\n",
    "    {\n",
    "        get {return AccountType;}\n",
    "        set {AccountType = value;}\n",
    "    }\n",
    "\n",
    "    public virtual void GetInfo(int AccountNumber)\n",
    "    {\n",
    "        Console.WriteLine($\"Информация счета: Номер счета: {AccountNumber}\");\n",
    "    }\n",
    "\n",
    "    public virtual void Deposit(decimal amount)\n",
    "    {\n",
    "         Balance += amount;\n",
    "         Console.WriteLine($\"Деньги внесены на счет {amount}\");\n",
    "    }\n",
    "\n",
    "    public virtual void Withdraw(decimal amount)\n",
    "    {\n",
    "        Balance -= amount;\n",
    "        Console.WriteLine($\"Деньги сняты с счета {amount}\");\n",
    "    }\n",
    "}\n",
    "\n",
    "public class SavingsAccount : BankAccount\n",
    "{\n",
    "    public decimal InterestRate;\n",
    "\n",
    "    public override void Deposit(decimal amount)\n",
    "    {\n",
    "        balance += amount * InterestRate / 100; \n",
    "        Console.WriteLine($\"Деньги внесены на счет {amount} с процентной ставкой\");\n",
    "    }\n",
    "}\n",
    "\n",
    "public class CheckingAccount : BankAccount\n",
    "{\n",
    "    public int OverdraftLimit;\n",
    "\n",
    "    public override void Withdraw(decimal amount)\n",
    "    {\n",
    "         if (balance + OverdraftLimit >= amount)\n",
    "        {\n",
    "            balance -= amount;\n",
    "            Console.WriteLine($\"Деньги сняты с счета\");\n",
    "        }\n",
    "        else\n",
    "        {\n",
    "            Console.WriteLine(\"Превышен лимит овердрафта\");\n",
    "        }\n",
    "    }\n",
    "}\n",
    "\n",
    "    \n",
    "\n",
    "\n",
    "\n"
   ]
  }
 ],
 "metadata": {
  "kernelspec": {
   "display_name": ".NET (C#)",
   "language": "C#",
   "name": ".net-csharp"
  },
  "polyglot_notebook": {
   "kernelInfo": {
    "defaultKernelName": "csharp",
    "items": [
     {
      "aliases": [],
      "languageName": "csharp",
      "name": "csharp"
     }
    ]
   }
  }
 },
 "nbformat": 4,
 "nbformat_minor": 2
}
