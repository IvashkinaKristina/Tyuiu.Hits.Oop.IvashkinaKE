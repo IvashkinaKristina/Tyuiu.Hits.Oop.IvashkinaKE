{
 "cells": [
  {
   "cell_type": "markdown",
   "metadata": {},
   "source": [
    "<h1 style=\"color:DodgerBlue\">Индивидальный проект</h1>"
   ]
  },
  {
   "cell_type": "markdown",
   "metadata": {},
   "source": [
    "<h2 style=\"color:DodgerBlue\">Название проекта:</h2>\n",
    "\n",
    "----\n",
    "\n",
    "Вариант задания № 7\n"
   ]
  },
  {
   "cell_type": "markdown",
   "metadata": {},
   "source": [
    "<h2 style=\"color:DodgerBlue\">Описание проекта:</h2>\n",
    "\n",
    "----\n",
    "\n",
    "Создать базовый класс BankAccount в C#, который будет представлять\n",
    "информацию об учетных записях в банке. На основе этого класса разработать 2-3\n",
    "производных класса, демонстрирующих принципы наследования и полиморфизма.\n",
    "В каждом из классов должны быть реализованы новые атрибуты и методы, а также\n",
    "переопределены некоторые методы базового класса для демонстрации\n",
    "полиморфизма.\n",
    "\n",
    "Требования к базовому классу BankAccount:\n",
    "\n",
    "• Атрибуты: Номер счета (AccountNumber), Баланс (Balance), Тип счета\n",
    "(AccountType).\n",
    "\n",
    "• Методы:\n",
    "\n",
    "o GetInfo(): метод для получения информации о счете в виде строки.\n",
    "\n",
    "o Deposit(decimal amount): метод для внесения денег на счет.\n",
    "\n",
    "o Withdraw(decimal amount): метод для снятия денег со счета.\n",
    "\n",
    "Требования к производным классам:\n",
    "\n",
    "1. Сберегательный счет (SavingsAccount): Должен содержать дополнительные\n",
    "атрибуты, такие как Процентная ставка (InterestRate). Метод Deposit() должен\n",
    "быть переопределен для добавления процентов к сумме вклада при\n",
    "внесении денег на счет.\n",
    "\n",
    "2. Текущий счет (CheckingAccount): Должен содержать дополнительные\n",
    "атрибуты, такие как Лимит овердрафта (OverdraftLimit).\n",
    "Метод Withdraw() должен быть переопределен для проверки и применения\n",
    "лимита овердрафта при снятии денег со счета.\n",
    "\n",
    "3. Инвестиционный счет (InvestmentAccount) (если требуется третий класс):\n",
    "Должен содержать дополнительные атрибуты, такие как Список активов\n",
    "(AssetsList). Метод GetInfo() должен быть переопределен для включения\n",
    "информации о списках активов в описании счета.\n"
   ]
  },
  {
   "cell_type": "markdown",
   "metadata": {},
   "source": [
    "<h2 style=\"color:DodgerBlue\">Реализация:</h2>\n",
    "\n",
    "----"
   ]
  },
  {
   "cell_type": "code",
   "execution_count": 2,
   "metadata": {
    "dotnet_interactive": {
     "language": "csharp"
    },
    "polyglot_notebook": {
     "kernelName": "csharp"
    }
   },
   "outputs": [
    {
     "name": "stdout",
     "output_type": "stream",
     "text": [
      "Информация о счете: Номер счета: 123, Баланс: 5000, Тип счёта: Дебетовый\n",
      "\n",
      "Сберегательный счёт:\n",
      "Пополнение счета: 300 рублей\n",
      "Баланас счёта: 5309.00, Процентная ставка: 0.03\n",
      "\n",
      "Деньги сняты\n",
      "Текущий счёт:\n",
      "Баланас счёта: 4400, Лимит овердрафта: 1000\n"
     ]
    }
   ],
   "source": [
    "public class BankAccount\n",
    "{\n",
    "   public int AccountNumber = 123;\n",
    "   public decimal Balance = 5000;\n",
    "   public string AccountType = \"Дебетовый\";\n",
    "   \n",
    "\n",
    "   public virtual void GetInfo()\n",
    "   {\n",
    "      Console.WriteLine ($\"Информация о счете: Номер счета: {AccountNumber}, Баланс: {Balance}, Тип счёта: {AccountType}\");\n",
    "   }\n",
    "\n",
    "   public virtual void Deposit(decimal amount)\n",
    "   {\n",
    "      Balance += amount;\n",
    "   }\n",
    "\n",
    "   public virtual void Withdraw(decimal amount)\n",
    "   {\n",
    "      Balance -= amount;\n",
    "   }\n",
    "}\n",
    "\n",
    "public class SavingsAccount : BankAccount\n",
    "{\n",
    "   public decimal InterestRate = 0.03m;\n",
    "\n",
    "   public override void Deposit(decimal amount)\n",
    "   {\n",
    "      Balance += amount * (1 + InterestRate);\n",
    "   }\n",
    "\n",
    "   public override void GetInfo()\n",
    "   {\n",
    "      Console.WriteLine($\"Баланас счёта: {Balance}, Процентная ставка: {InterestRate}\");\n",
    "   }\n",
    "}\n",
    "\n",
    "public class CheckingAccount : BankAccount\n",
    "{\n",
    "   public decimal OverdraftLimit = 1000;\n",
    "\n",
    "   public override void Withdraw(decimal amount)\n",
    "   {\n",
    "       if (Balance + OverdraftLimit >= amount)\n",
    "        {\n",
    "            Balance -= amount;\n",
    "            Console.WriteLine($\"Деньги сняты\");\n",
    "        }\n",
    "        else\n",
    "        {\n",
    "            Console.WriteLine($\"Превышен лимит овердрафта\");\n",
    "        }\n",
    "   }\n",
    "\n",
    "   public override void GetInfo()\n",
    "   {\n",
    "      Console.WriteLine($\"Баланас счёта: {Balance}, Лимит овердрафта: {OverdraftLimit}\");\n",
    "   }\n",
    "}\n",
    "\n",
    "\n",
    "BankAccount bankAccount1 = new BankAccount();\n",
    "bankAccount1.GetInfo();\n",
    "\n",
    "Console.WriteLine();\n",
    "\n",
    "SavingsAccount savingsAccount1 = new SavingsAccount();\n",
    "savingsAccount1.Deposit(300);\n",
    "Console.WriteLine(\"Сберегательный счёт:\");\n",
    "Console.WriteLine(\"Пополнение счёта\");\n",
    "savingsAccount1.GetInfo();\n",
    "\n",
    "Console.WriteLine();\n",
    "\n",
    "CheckingAccount checkingAccount1 = new CheckingAccount();\n",
    "checkingAccount1.Withdraw(600);\n",
    "Console.WriteLine(\"Текущий счёт:\");\n",
    "checkingAccount1.GetInfo();\n",
    "\n",
    "\n",
    "\n"
   ]
  }
 ],
 "metadata": {
  "kernelspec": {
   "display_name": ".NET (C#)",
   "language": "C#",
   "name": ".net-csharp"
  },
  "polyglot_notebook": {
   "kernelInfo": {
    "defaultKernelName": "csharp",
    "items": [
     {
      "aliases": [],
      "languageName": "csharp",
      "name": "csharp"
     }
    ]
   }
  }
 },
 "nbformat": 4,
 "nbformat_minor": 2
}
